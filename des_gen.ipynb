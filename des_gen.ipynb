{
 "cells": [
  {
   "cell_type": "code",
   "execution_count": null,
   "metadata": {},
   "outputs": [],
   "source": [
    "import os\n",
    "from dotenv.main import load_dotenv"
   ]
  },
  {
   "cell_type": "code",
   "execution_count": null,
   "metadata": {},
   "outputs": [],
   "source": [
    "# load the keys\n",
    "key = os.getenv('KEY')\n",
    "org_id = os.getenv('ORG_ID')"
   ]
  },
  {
   "cell_type": "code",
   "execution_count": null,
   "metadata": {},
   "outputs": [],
   "source": [
    "import openai"
   ]
  },
  {
   "cell_type": "code",
   "execution_count": null,
   "metadata": {},
   "outputs": [],
   "source": [
    "openai.api_key = key\n",
    "openai.organization = org_id\n",
    "openai.Model.list()"
   ]
  },
  {
   "cell_type": "code",
   "execution_count": null,
   "metadata": {},
   "outputs": [],
   "source": [
    "model = 'gpt-3.5-turbo'"
   ]
  },
  {
   "cell_type": "code",
   "execution_count": null,
   "metadata": {},
   "outputs": [],
   "source": [
    "response = openai.ChatCompletion.create(\n",
    "    model=model,\n",
    "    messages=[{\"role\": \"user\", \"content\": \"tell me a joke\"}]\n",
    ")"
   ]
  },
  {
   "cell_type": "code",
   "execution_count": null,
   "metadata": {},
   "outputs": [],
   "source": [
    "print(response)"
   ]
  },
  {
   "cell_type": "code",
   "execution_count": null,
   "metadata": {},
   "outputs": [],
   "source": [
    "print(response.choices[0].message['content'])"
   ]
  },
  {
   "attachments": {},
   "cell_type": "markdown",
   "metadata": {},
   "source": [
    "Read the class names and generate description for some class as test"
   ]
  },
  {
   "cell_type": "code",
   "execution_count": null,
   "metadata": {},
   "outputs": [],
   "source": [
    "import pandas as pd\n",
    "import time\n",
    "from tqdm.notebook import tqdm"
   ]
  },
  {
   "cell_type": "code",
   "execution_count": null,
   "metadata": {},
   "outputs": [],
   "source": [
    "birds = os.listdir(r'CUB_200_2011\\images')\n",
    "\n",
    "bird_names = {}\n",
    "\n",
    "for i in birds:\n",
    "    index, name = i.split('.')[0], i.split('.')[1]\n",
    "    index = int(index) - 1\n",
    "    bird_names[index] = name\n",
    "\n",
    "bird_names = dict(sorted(bird_names.items(), key=lambda x:x[0]))\n",
    "bird_names"
   ]
  },
  {
   "cell_type": "code",
   "execution_count": null,
   "metadata": {},
   "outputs": [],
   "source": [
    "# replace the underscore with space in the dictionary\n",
    "bird_names = {k: v.replace('_', ' ') for k, v in bird_names.items()}\n",
    "bird_names"
   ]
  },
  {
   "cell_type": "code",
   "execution_count": null,
   "metadata": {},
   "outputs": [],
   "source": [
    "bird_names_df = pd.DataFrame(bird_names.items(), columns=['index', 'Bird_name'])\n",
    "bird_names_df.drop(['index'], axis=1, inplace=True)\n",
    "bird_names_df.head()"
   ]
  },
  {
   "cell_type": "code",
   "execution_count": null,
   "metadata": {},
   "outputs": [],
   "source": [
    "bird_names_df['Short_Description'] = ''\n",
    "bird_names_df.head()"
   ]
  },
  {
   "cell_type": "code",
   "execution_count": null,
   "metadata": {},
   "outputs": [],
   "source": [
    "for i in range(len(bird_names_df)):\n",
    "    bird_names_df['Short_Description'][i] = f\"{bird_names_df['Bird_name'][i]} is a bird.\"\n",
    "    break\n",
    "\n",
    "bird_names_df.head()"
   ]
  },
  {
   "cell_type": "code",
   "execution_count": null,
   "metadata": {},
   "outputs": [],
   "source": [
    "def generate_short_description(bird_name):\n",
    "    time.sleep(25)\n",
    "    response = openai.ChatCompletion.create(\n",
    "        model=model,\n",
    "        messages=[{\"role\": \"user\", \"content\": f\"Describe {bird_name} bird in one sentence.\"}]\n",
    "    )\n",
    "    print(response.choices[0].message['content'])\n",
    "    return response.choices[0].message['content']"
   ]
  },
  {
   "cell_type": "code",
   "execution_count": null,
   "metadata": {},
   "outputs": [],
   "source": [
    "for i in tqdm(range(5)):\n",
    "    bird_names_df['Short_Description'][i] = generate_short_description(bird_names_df['Bird_name'][i])\n",
    "\n",
    "bird_names_df.head()"
   ]
  },
  {
   "cell_type": "code",
   "execution_count": null,
   "metadata": {},
   "outputs": [],
   "source": [
    "for i in tqdm(range(len(bird_names_df['Bird_name']))):\n",
    "    if bird_names_df['Short_Description'][i] == '':\n",
    "        bird_names_df['Short_Description'][i] = generate_short_description(bird_names_df['Bird_name'][i])\n",
    "\n",
    "bird_names_df.head(10)"
   ]
  },
  {
   "cell_type": "code",
   "execution_count": null,
   "metadata": {},
   "outputs": [],
   "source": [
    "bird_names_df.to_excel('CUB_200_2011_short_description.xlsx', index=False)"
   ]
  },
  {
   "attachments": {},
   "cell_type": "markdown",
   "metadata": {},
   "source": [
    "Generate description (250 words) for all classes"
   ]
  },
  {
   "cell_type": "code",
   "execution_count": null,
   "metadata": {},
   "outputs": [],
   "source": [
    "bird_names_df['Description'] = ''\n",
    "bird_names_df.head()"
   ]
  },
  {
   "cell_type": "code",
   "execution_count": null,
   "metadata": {},
   "outputs": [],
   "source": [
    "def generate_description(bird_name):\n",
    "    time.sleep(30)\n",
    "    response = openai.ChatCompletion.create(\n",
    "        model=model,\n",
    "        messages=[{\"role\": \"user\", \"content\": f\"Describe {bird_name} bird in 250 words paragraph.\"}]\n",
    "    )\n",
    "\n",
    "    print(response.choices[0].message['content'], end='\\r')\n",
    "    return response.choices[0].message['content']"
   ]
  },
  {
   "cell_type": "code",
   "execution_count": null,
   "metadata": {},
   "outputs": [],
   "source": [
    "generate_description(bird_names_df['Bird_name'][0])"
   ]
  },
  {
   "cell_type": "code",
   "execution_count": null,
   "metadata": {},
   "outputs": [],
   "source": [
    "for i in tqdm(range(len(bird_names_df['Bird_name']))):\n",
    "    if bird_names_df['Description'][i] == '':\n",
    "        bird_names_df['Description'][i] = generate_description(bird_names_df['Bird_name'][i])\n",
    "\n",
    "bird_names_df.head()"
   ]
  },
  {
   "cell_type": "code",
   "execution_count": null,
   "metadata": {},
   "outputs": [],
   "source": [
    "bird_names_df.to_excel('CUB_200_2011_description.xlsx', index=False)"
   ]
  },
  {
   "cell_type": "code",
   "execution_count": null,
   "metadata": {},
   "outputs": [],
   "source": [
    "bird_names_df = pd.read_excel('CUB_200_2011_description.xlsx')"
   ]
  },
  {
   "cell_type": "code",
   "execution_count": null,
   "metadata": {},
   "outputs": [],
   "source": [
    "bird_names_df.head()"
   ]
  },
  {
   "cell_type": "code",
   "execution_count": null,
   "metadata": {},
   "outputs": [],
   "source": [
    "bird_names_df['Long_Description'] = ''\n",
    "bird_names_df.head()"
   ]
  },
  {
   "cell_type": "code",
   "execution_count": null,
   "metadata": {},
   "outputs": [],
   "source": [
    "def generate_long_description(bird_name):\n",
    "    time.sleep(30)\n",
    "    response = openai.ChatCompletion.create(\n",
    "        model=model,\n",
    "        messages=[{\"role\": \"user\", \"content\": f\"Describe {bird_name} bird in 500 words paragraph.\"}]\n",
    "    )\n",
    "\n",
    "    print(response.choices[0].message['content'], end='\\r')\n",
    "    return response.choices[0].message['content']"
   ]
  },
  {
   "cell_type": "code",
   "execution_count": null,
   "metadata": {},
   "outputs": [],
   "source": [
    "generate_long_description(bird_names_df['Bird_name'][0])"
   ]
  },
  {
   "cell_type": "code",
   "execution_count": null,
   "metadata": {},
   "outputs": [],
   "source": [
    "for i in tqdm(range(len(bird_names_df['Bird_name']))):\n",
    "    if bird_names_df['Long_Description'][i] == '':\n",
    "        bird_names_df['Long_Description'][i] = generate_long_description(bird_names_df['Bird_name'][i])\n",
    "\n",
    "bird_names_df.head()"
   ]
  },
  {
   "cell_type": "code",
   "execution_count": null,
   "metadata": {},
   "outputs": [],
   "source": [
    "bird_names_df.to_excel('CUB_200_2011_all_description.xlsx', index=False)"
   ]
  }
 ],
 "metadata": {
  "kernelspec": {
   "display_name": "base",
   "language": "python",
   "name": "python3"
  },
  "language_info": {
   "codemirror_mode": {
    "name": "ipython",
    "version": 3
   },
   "file_extension": ".py",
   "mimetype": "text/x-python",
   "name": "python",
   "nbconvert_exporter": "python",
   "pygments_lexer": "ipython3",
   "version": "3.9.16"
  },
  "orig_nbformat": 4
 },
 "nbformat": 4,
 "nbformat_minor": 2
}
